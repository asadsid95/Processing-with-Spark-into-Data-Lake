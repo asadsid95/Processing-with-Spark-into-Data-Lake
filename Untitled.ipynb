{
 "cells": [
  {
   "cell_type": "code",
   "execution_count": 15,
   "metadata": {
    "editable": true
   },
   "outputs": [],
   "source": [
    "from pyspark.sql import SparkSession\n",
    "import pandas as pd\n",
    "from zipfile import ZipFile\n",
    "from pyspark.sql.functions import udf, col\n",
    "from pyspark.sql.types import IntegerType, TimestampType\n",
    "import datetime\n",
    "from pyspark.sql.functions import year, month, dayofmonth, hour, weekofyear, date_format, dayofweek\n",
    "import os\n",
    "\n",
    "# with ZipFile('data/song-data.zip','r') as songFileRead:\n",
    "    #songFileRead.extractall('data/readSongs')\n",
    "    \n",
    "# with ZipFile('data/log-data.zip','r') as logFileRead:\n",
    "    #logFileRead.extractall('data/readLogs')"
   ]
  },
  {
   "cell_type": "code",
   "execution_count": null,
   "metadata": {
    "editable": true
   },
   "outputs": [],
   "source": [
    "input_data = 's3://blak/'\n",
    "joined = os.path.join(input_data,'log_data')\n",
    "print(joined)"
   ]
  },
  {
   "cell_type": "code",
   "execution_count": 16,
   "metadata": {
    "editable": true
   },
   "outputs": [],
   "source": [
    "spark = SparkSession.builder.config('spark.ui.port',3000).appName(\"P4\").getOrCreate()"
   ]
  },
  {
   "cell_type": "code",
   "execution_count": null,
   "metadata": {
    "editable": true
   },
   "outputs": [],
   "source": [
    "spark"
   ]
  },
  {
   "cell_type": "code",
   "execution_count": 17,
   "metadata": {
    "editable": true
   },
   "outputs": [],
   "source": [
    "    # get filepath to song data file\n",
    "song_data = spark.read.json(\"data/readSongs/song_data/A/A/A/*.json\")\n",
    "log_data = spark.read.json(\"data/readLogs\")\n",
    "# print(song_data.count())\n",
    "#print(song_data.show(5))"
   ]
  },
  {
   "cell_type": "code",
   "execution_count": 18,
   "metadata": {
    "editable": true
   },
   "outputs": [],
   "source": [
    "log_data = log_data.filter(log_data.page==\"NextSong\")\n",
    "#print(log_data.show(5))"
   ]
  },
  {
   "cell_type": "code",
   "execution_count": 34,
   "metadata": {
    "editable": true
   },
   "outputs": [
    {
     "name": "stdout",
     "output_type": "stream",
     "text": [
      "root\n",
      " |-- artist_id: string (nullable = true)\n",
      " |-- artist_latitude: double (nullable = true)\n",
      " |-- artist_location: string (nullable = true)\n",
      " |-- artist_longitude: double (nullable = true)\n",
      " |-- artist_name: string (nullable = true)\n",
      " |-- duration: double (nullable = true)\n",
      " |-- num_songs: long (nullable = true)\n",
      " |-- song_id: string (nullable = true)\n",
      " |-- title: string (nullable = true)\n",
      " |-- year: long (nullable = true)\n",
      "\n",
      "None\n",
      "root\n",
      " |-- artist: string (nullable = true)\n",
      " |-- auth: string (nullable = true)\n",
      " |-- firstName: string (nullable = true)\n",
      " |-- gender: string (nullable = true)\n",
      " |-- itemInSession: long (nullable = true)\n",
      " |-- lastName: string (nullable = true)\n",
      " |-- length: double (nullable = true)\n",
      " |-- level: string (nullable = true)\n",
      " |-- location: string (nullable = true)\n",
      " |-- method: string (nullable = true)\n",
      " |-- page: string (nullable = true)\n",
      " |-- registration: double (nullable = true)\n",
      " |-- sessionId: long (nullable = true)\n",
      " |-- song: string (nullable = true)\n",
      " |-- status: long (nullable = true)\n",
      " |-- ts: long (nullable = true)\n",
      " |-- userAgent: string (nullable = true)\n",
      " |-- userId: string (nullable = true)\n",
      "\n",
      "None\n"
     ]
    }
   ],
   "source": [
    "print(song_data.printSchema())\n",
    "print(log_data.printSchema())"
   ]
  },
  {
   "cell_type": "code",
   "execution_count": 34,
   "metadata": {
    "editable": true
   },
   "outputs": [
    {
     "name": "stdout",
     "output_type": "stream",
     "text": [
      "root\n",
      " |-- song_id: string (nullable = true)\n",
      " |-- title: string (nullable = true)\n",
      " |-- artist_id: string (nullable = true)\n",
      " |-- year: long (nullable = true)\n",
      " |-- duration: double (nullable = true)\n",
      "\n"
     ]
    }
   ],
   "source": [
    "# song_data.head(5)\n",
    "# songs_table = song_data.select(['song_id', 'title', 'artist_id', 'year', 'duration']).groupBy(\"song_id\").show(15) ## I need to learn how to use groupBy()\n",
    "\n",
    "songs_table = song_data.dropDuplicates(['song_id']).select(['song_id', 'title', 'artist_id', 'year', 'duration'])\n",
    "#songs_table = song_data.select(['song_id', 'title', 'artist_id', 'year', 'duration'])\n",
    "\n",
    "songs_table.printSchema()\n",
    "#print(type(songs_table))\n",
    "# songs_table = spark.createDataFrame(songs_table1)\n",
    "# print(type(songs_table))\n",
    "\n",
    "# songsParquet = songs_table.write.partitionBy('year','duration').parquet('songs.parquet')\n"
   ]
  },
  {
   "cell_type": "code",
   "execution_count": 32,
   "metadata": {
    "editable": true
   },
   "outputs": [
    {
     "name": "stdout",
     "output_type": "stream",
     "text": [
      "root\n",
      " |-- artist_id: string (nullable = true)\n",
      " |-- artist_name: string (nullable = true)\n",
      " |-- artist_location: string (nullable = true)\n",
      " |-- artist_latitude: double (nullable = true)\n",
      " |-- artist_longitude: double (nullable = true)\n",
      "\n"
     ]
    }
   ],
   "source": [
    "artists_table = song_data.select(['artist_id','artist_name','artist_location','artist_latitude','artist_longitude']) # create quality check for null and blank\n",
    "artists_table.printSchema()\n",
    "# artistsParquet = artists_table.write.parquet('artist.parquet')"
   ]
  },
  {
   "cell_type": "code",
   "execution_count": null,
   "metadata": {
    "editable": true
   },
   "outputs": [],
   "source": [
    "spark.read.parquet('artist.parquet').show()"
   ]
  },
  {
   "cell_type": "code",
   "execution_count": 23,
   "metadata": {
    "editable": true
   },
   "outputs": [
    {
     "name": "stdout",
     "output_type": "stream",
     "text": [
      "root\n",
      " |-- user_id: string (nullable = true)\n",
      " |-- firstName: string (nullable = true)\n",
      " |-- lastName: string (nullable = true)\n",
      " |-- gender: string (nullable = true)\n",
      " |-- level: string (nullable = true)\n",
      "\n"
     ]
    }
   ],
   "source": [
    "   \n",
    "users_table = log_data.dropDuplicates(['userId']).select(col('userId').alias('user_id'),\\\n",
    "                            'firstName', 'lastName', 'gender','level',)\n",
    "users_table.printSchema()\n",
    "# usersParquest = users_table.write.parquet('users.parquet')"
   ]
  },
  {
   "cell_type": "code",
   "execution_count": 19,
   "metadata": {
    "editable": true
   },
   "outputs": [
    {
     "name": "stdout",
     "output_type": "stream",
     "text": [
      "2018-11-15 00:30:26.796000\n",
      "root\n",
      " |-- Start_Time: timestamp (nullable = true)\n",
      " |-- Date: string (nullable = true)\n",
      " |-- Hour: integer (nullable = true)\n",
      " |-- Day: integer (nullable = true)\n",
      " |-- Week: integer (nullable = true)\n",
      " |-- Month: integer (nullable = true)\n",
      " |-- Year: integer (nullable = true)\n",
      " |-- Day_of_Week: integer (nullable = true)\n",
      "\n"
     ]
    }
   ],
   "source": [
    "df = log_data.ts\n",
    "print(datetime.datetime.fromtimestamp(1542241826796/1000))\n",
    "\n",
    "get_timestamp = udf(lambda x : datetime.datetime.fromtimestamp(x/1000), TimestampType())\n",
    "y = 1542241826796\n",
    "\n",
    "hours_added = log_data.withColumn(\"hours\",get_timestamp(df))\n",
    "#print(get_timestamp(df))\n",
    "onlyHours = hours_added.select(col('hours').alias('Start_Time'),\\\n",
    "                               date_format('hours', 'E').alias('Date'), \n",
    "                               hour('hours').alias('Hour'), \n",
    "                               dayofmonth('hours').alias('Day'),\\\n",
    "                               weekofyear('hours').alias(\"Week\"),\n",
    "                               month('hours').alias('Month'),\\\n",
    "                               year('hours').alias('Year'), \n",
    "                               dayofweek('hours').alias('Day_of_Week'))\n",
    "onlyHours.printSchema()\n",
    "#print(hours_added.select('hours').show(n=10,truncate = False))\n",
    "\n",
    "#print(log_data.lastName)"
   ]
  },
  {
   "cell_type": "code",
   "execution_count": null,
   "metadata": {
    "editable": true
   },
   "outputs": [],
   "source": [
    "timeParquet = onlyHours.write.partitionBy(\"Year\",\"Month\").parquet(\"time.parquet\")"
   ]
  },
  {
   "cell_type": "code",
   "execution_count": 14,
   "metadata": {
    "editable": true
   },
   "outputs": [
    {
     "name": "stdout",
     "output_type": "stream",
     "text": [
      "+--------------------+---------+----------+------+-------------+---------+---------+-----+--------------------+------+--------+-----------------+---------+--------------------+------+-------------+--------------------+------+---------+---------------+---------------+----------------+-----------+--------+---------+-------+-----+----+\n",
      "|              artist|     auth| firstName|gender|itemInSession| lastName|   length|level|            location|method|    page|     registration|sessionId|                song|status|           ts|           userAgent|userId|artist_id|artist_latitude|artist_location|artist_longitude|artist_name|duration|num_songs|song_id|title|year|\n",
      "+--------------------+---------+----------+------+-------------+---------+---------+-----+--------------------+------+--------+-----------------+---------+--------------------+------+-------------+--------------------+------+---------+---------------+---------------+----------------+-----------+--------+---------+-------+-----+----+\n",
      "|             America|Logged In|     Avery|     F|            9| Martinez|262.89587| paid|Atlanta-Sandy Spr...|   PUT|NextSong|1.540646838796E12|     1017|  Horse With No Name|   200|1543512181796|\"Mozilla/5.0 (Mac...|    82|     null|           null|           null|            null|       null|    null|     null|   null| null|null|\n",
      "|   Avenged Sevenfold|Logged In|      Lily|     F|           36|     Koch|288.23465| paid|Chicago-Napervill...|   PUT|NextSong|1.541048010796E12|      764|Scream (Album Ver...|   200|1542799794796|\"Mozilla/5.0 (X11...|    15|     null|           null|           null|            null|       null|    null|     null|   null| null|null|\n",
      "|            Bon Jovi|Logged In|      Kate|     F|            5|  Harrell|250.69669| paid|Lansing-East Lans...|   PUT|NextSong|1.540472624796E12|      806|  Livin' On A Prayer|   200|1542808164796|\"Mozilla/5.0 (X11...|    97|     null|           null|           null|            null|       null|    null|     null|   null| null|null|\n",
      "|            Bon Jovi|Logged In|     Rylan|     M|           28|   George|250.69669| paid|Birmingham-Hoover...|   PUT|NextSong|1.541020249796E12|      479|  Livin' On A Prayer|   200|1542183022796|\"Mozilla/5.0 (Mac...|    16|     null|           null|           null|            null|       null|    null|     null|   null| null|null|\n",
      "|            Bon Jovi|Logged In|  Mohammad|     M|            5|Rodriguez|250.69669| paid|Sacramento--Rosev...|   PUT|NextSong|1.540511766796E12|      900|  Livin' On A Prayer|   200|1543235397796|\"Mozilla/5.0 (Mac...|    88|     null|           null|           null|            null|       null|    null|     null|   null| null|null|\n",
      "|   Dance Gavin Dance|Logged In|    Marina|     F|            0|   Sutton|218.46159| free|         Salinas, CA|   PUT|NextSong|1.541064343796E12|       47|Uneasy Hearts Wei...|   200|1541127957796|\"Mozilla/5.0 (Mac...|    48|     null|           null|           null|            null|       null|    null|     null|   null| null|null|\n",
      "|        Deana Carter|Logged In|    Jayden|     M|            3|   Graves| 214.5171| paid|    Marinette, WI-MI|   PUT|NextSong|1.540664184796E12|      231|  She's Good For You|   200|1541440238796|\"Mozilla/5.0 (Win...|    25|     null|           null|           null|            null|       null|    null|     null|   null| null|null|\n",
      "|        DecembeRadio|Logged In|      Lily|     F|            0|    Burns|249.62567| free|New York-Newark-J...|   PUT|NextSong|1.540621059796E12|      886|    Find You Waiting|   200|1543241727796|\"Mozilla/5.0 (Win...|    32|     null|           null|           null|            null|       null|    null|     null|   null| null|null|\n",
      "|        DecembeRadio|Logged In|      Lily|     F|           74|     Koch|249.62567| paid|Chicago-Napervill...|   PUT|NextSong|1.541048010796E12|      172|    Find You Waiting|   200|1541166847796|\"Mozilla/5.0 (X11...|    15|     null|           null|           null|            null|       null|    null|     null|   null| null|null|\n",
      "|Edward Sharpe & T...|Logged In|     Tegan|     F|            4|   Levine|306.31138| paid|Portland-South Po...|   PUT|NextSong|1.540794356796E12|      602|                Home|   200|1542261356796|\"Mozilla/5.0 (Mac...|    80|     null|           null|           null|            null|       null|    null|     null|   null| null|null|\n",
      "|Edward Sharpe & T...|Logged In|      Lily|     F|           33|     Koch|306.31138| paid|Chicago-Napervill...|   PUT|NextSong|1.541048010796E12|      818|                Home|   200|1542843719796|\"Mozilla/5.0 (X11...|    15|     null|           null|           null|            null|       null|    null|     null|   null| null|null|\n",
      "|Edward Sharpe & T...|Logged In|     Layla|     F|           32|  Griffin|306.31138| paid|Lake Havasu City-...|   PUT|NextSong|1.541057188796E12|      984|                Home|   200|1543436579796|\"Mozilla/5.0 (Win...|    24|     null|           null|           null|            null|       null|    null|     null|   null| null|null|\n",
      "|Edward Sharpe & T...|Logged In|      Sara|     F|           14|  Johnson|306.31138| paid|   Winston-Salem, NC|   PUT|NextSong|1.540809153796E12|      222|                Home|   200|1541413486796|\"Mozilla/5.0 (iPh...|    95|     null|           null|           null|            null|       null|    null|     null|   null| null|null|\n",
      "|Edward Sharpe & T...|Logged In|Jacqueline|     F|           12|    Lynch|306.31138| paid|Atlanta-Sandy Spr...|   PUT|NextSong|1.540223723796E12|      556|                Home|   200|1542139793796|\"Mozilla/5.0 (Mac...|    29|     null|           null|           null|            null|       null|    null|     null|   null| null|null|\n",
      "|Edward Sharpe & T...|Logged In|      Sara|     F|           52|  Johnson|306.31138| paid|   Winston-Salem, NC|   PUT|NextSong|1.540809153796E12|      411|                Home|   200|1542149685796|\"Mozilla/5.0 (iPh...|    95|     null|           null|           null|            null|       null|    null|     null|   null| null|null|\n",
      "|Edward Sharpe & T...|Logged In|     Chloe|     F|           44|   Cuevas|306.31138| paid|San Francisco-Oak...|   PUT|NextSong|1.540940782796E12|      648|                Home|   200|1542410613796|Mozilla/5.0 (Wind...|    49|     null|           null|           null|            null|       null|    null|     null|   null| null|null|\n",
      "|Edward Sharpe & T...|Logged In|      Sara|     F|           28|  Johnson|306.31138| paid|   Winston-Salem, NC|   PUT|NextSong|1.540809153796E12|      564|                Home|   200|1543066426796|\"Mozilla/5.0 (iPh...|    95|     null|           null|           null|            null|       null|    null|     null|   null| null|null|\n",
      "|Edward Sharpe & T...|Logged In|Jacqueline|     F|            5|    Lynch|306.31138| paid|Atlanta-Sandy Spr...|   PUT|NextSong|1.540223723796E12|      898|                Home|   200|1543079004796|\"Mozilla/5.0 (Mac...|    29|     null|           null|           null|            null|       null|    null|     null|   null| null|null|\n",
      "|Edward Sharpe & T...|Logged In|  Mohammad|     M|            7|Rodriguez|306.31138| paid|Sacramento--Rosev...|   PUT|NextSong|1.540511766796E12|      969|                Home|   200|1543345508796|\"Mozilla/5.0 (Mac...|    88|     null|           null|           null|            null|       null|    null|     null|   null| null|null|\n",
      "|Edward Sharpe & T...|Logged In|    Jayden|     M|           40|   Graves|306.31138| paid|    Marinette, WI-MI|   PUT|NextSong|1.540664184796E12|      128|                Home|   200|1541317524796|\"Mozilla/5.0 (Win...|    25|     null|           null|           null|            null|       null|    null|     null|   null| null|null|\n",
      "+--------------------+---------+----------+------+-------------+---------+---------+-----+--------------------+------+--------+-----------------+---------+--------------------+------+-------------+--------------------+------+---------+---------------+---------------+----------------+-----------+--------+---------+-------+-----+----+\n",
      "only showing top 20 rows\n",
      "\n",
      "None\n"
     ]
    }
   ],
   "source": [
    "song_df = log_data.join(song_data, (log_data.artist == song_data.artist_name) & (log_data.length == song_data.duration) & (log_data.song == song_data.title), 'full')\n",
    "# Inner join has too few of records\n",
    "\n",
    "print(song_df.show())"
   ]
  },
  {
   "cell_type": "code",
   "execution_count": 30,
   "metadata": {
    "editable": true
   },
   "outputs": [
    {
     "name": "stdout",
     "output_type": "stream",
     "text": [
      "root\n",
      " |-- artist: string (nullable = true)\n",
      " |-- auth: string (nullable = true)\n",
      " |-- firstName: string (nullable = true)\n",
      " |-- gender: string (nullable = true)\n",
      " |-- itemInSession: long (nullable = true)\n",
      " |-- lastName: string (nullable = true)\n",
      " |-- length: double (nullable = true)\n",
      " |-- level: string (nullable = true)\n",
      " |-- location: string (nullable = true)\n",
      " |-- method: string (nullable = true)\n",
      " |-- page: string (nullable = true)\n",
      " |-- registration: double (nullable = true)\n",
      " |-- sessionId: long (nullable = true)\n",
      " |-- song: string (nullable = true)\n",
      " |-- status: long (nullable = true)\n",
      " |-- ts: long (nullable = true)\n",
      " |-- userAgent: string (nullable = true)\n",
      " |-- userId: string (nullable = true)\n",
      " |-- artist_id: string (nullable = true)\n",
      " |-- artist_latitude: double (nullable = true)\n",
      " |-- artist_location: string (nullable = true)\n",
      " |-- artist_longitude: double (nullable = true)\n",
      " |-- artist_name: string (nullable = true)\n",
      " |-- duration: double (nullable = true)\n",
      " |-- num_songs: long (nullable = true)\n",
      " |-- song_id: string (nullable = true)\n",
      " |-- title: string (nullable = true)\n",
      " |-- year: long (nullable = true)\n",
      " |-- start_time: timestamp (nullable = true)\n",
      "\n"
     ]
    }
   ],
   "source": [
    "song_df = song_df.withColumn(\"start_time\", get_timestamp(song_df.ts))\n",
    "song_df.printSchema()"
   ]
  },
  {
   "cell_type": "code",
   "execution_count": 31,
   "metadata": {
    "editable": true
   },
   "outputs": [
    {
     "name": "stdout",
     "output_type": "stream",
     "text": [
      "root\n",
      " |-- start_time: timestamp (nullable = true)\n",
      " |-- user_id: string (nullable = true)\n",
      " |-- level: string (nullable = true)\n",
      " |-- song_id: string (nullable = true)\n",
      " |-- artist_id: string (nullable = true)\n",
      " |-- session_id: long (nullable = true)\n",
      " |-- location: string (nullable = true)\n",
      " |-- user_agent: string (nullable = true)\n",
      " |-- year: integer (nullable = true)\n",
      " |-- month: integer (nullable = true)\n",
      "\n"
     ]
    }
   ],
   "source": [
    "songplays_table = song_df.select(\\\n",
    "                            song_df.start_time,\n",
    "                           col(\"userId\").alias(\"user_id\"),\n",
    "                        'level',\n",
    "                        'song_id',\n",
    "                        'artist_id',\n",
    "                        col(\"sessionId\").alias(\"session_id\"),\n",
    "                        'location',\n",
    "                        col(\"userAgent\").alias(\"user_agent\"),\n",
    "                        year(song_df.start_time).alias('year'),\n",
    "                        month(song_df.start_time).alias('month')\n",
    "                            )\n",
    "songplays_table.printSchema()"
   ]
  },
  {
   "cell_type": "code",
   "execution_count": null,
   "metadata": {
    "editable": true
   },
   "outputs": [],
   "source": [
    "songplays_table111 = song_df.select(['level','sessionId']).show(5)"
   ]
  },
  {
   "cell_type": "code",
   "execution_count": null,
   "metadata": {
    "editable": true
   },
   "outputs": [],
   "source": [
    "songplaysParquet = songplays_table.write.partitionBy('year','month').parquet('songplays.parquet')"
   ]
  },
  {
   "cell_type": "code",
   "execution_count": null,
   "metadata": {
    "editable": true
   },
   "outputs": [],
   "source": [
    "spark.read.json(\"data/readSongs/song_data/A/A/A/*.json\").show()"
   ]
  },
  {
   "cell_type": "code",
   "execution_count": null,
   "metadata": {
    "editable": true
   },
   "outputs": [],
   "source": []
  }
 ],
 "metadata": {
  "kernelspec": {
   "display_name": "Python 3",
   "language": "python",
   "name": "python3"
  },
  "language_info": {
   "codemirror_mode": {
    "name": "ipython",
    "version": 3
   },
   "file_extension": ".py",
   "mimetype": "text/x-python",
   "name": "python",
   "nbconvert_exporter": "python",
   "pygments_lexer": "ipython3",
   "version": "3.6.3"
  }
 },
 "nbformat": 4,
 "nbformat_minor": 4
}
